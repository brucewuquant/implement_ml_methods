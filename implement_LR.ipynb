{
 "cells": [
  {
   "cell_type": "code",
   "execution_count": 1,
   "metadata": {},
   "outputs": [
    {
     "name": "stdout",
     "output_type": "stream",
     "text": [
      "Sales = Weight*Ratio + Bias\n"
     ]
    }
   ],
   "source": [
    "print(\"Sales = Weight*Ratio + Bias\")"
   ]
  },
  {
   "cell_type": "code",
   "execution_count": 2,
   "metadata": {},
   "outputs": [],
   "source": [
    "def predict_sales(ratio, weight, bias):\n",
    "    return weight*ratio + bias"
   ]
  },
  {
   "cell_type": "code",
   "execution_count": 3,
   "metadata": {},
   "outputs": [],
   "source": [
    "def cost_function(ratio, sales, weight, bias):\n",
    "    companies = len(ratio)\n",
    "    total_error = 0.0\n",
    "    for i in range(companies):\n",
    "        total_error += (sales[i] - (weight*ratio[i] + bias))**2\n",
    "    return total_error / companies"
   ]
  },
  {
   "cell_type": "code",
   "execution_count": 4,
   "metadata": {},
   "outputs": [],
   "source": [
    "def update_weights(ratio, sales, weight, bias, learning_rate):\n",
    "    weight_deriv = 0\n",
    "    bias_deriv = 0\n",
    "    companies = len(ratio)\n",
    "    \n",
    "    for i in range(companies):\n",
    "        #calculate partial derivatives\n",
    "        # -2x(y-(mx+b))\n",
    "        weight_deriv += -2*ratio[i]*(sales[i]-(weight*ratio[i]+bias))\n",
    "        #-2(y-(mx+b))\n",
    "        \n",
    "        bias_deriv += -2*(sales[i] - (weight*ratio[i]+bias))\n",
    "        \n",
    "    weight -= (weight_deriv / companies)*learning_rate\n",
    "    bias -= (bias_deriv / companies)*learning_rate\n",
    "    return weight, bias"
   ]
  },
  {
   "cell_type": "code",
   "execution_count": 5,
   "metadata": {},
   "outputs": [],
   "source": [
    "def train(ratio, sales, weight, bias, learning_rate, iters):\n",
    "    cost_history = []\n",
    "    for i in range(iters):\n",
    "        weight, bias = update_weights(ratio, sales, weight, bias, learning_rate)\n",
    "        \n",
    "        cost = cost_function(ratio, sales, weight, bias)\n",
    "        cost_history.append(cost)\n",
    "        \n",
    "        if i%10 ==0:\n",
    "            print('iter={:d} weight={:.2f} bias={:.4f} cost={:.2}'.format(i, weight, bias, cost))\n",
    "            \n",
    "        return weight, bias, cost_history"
   ]
  },
  {
   "cell_type": "code",
   "execution_count": null,
   "metadata": {},
   "outputs": [],
   "source": []
  }
 ],
 "metadata": {
  "kernelspec": {
   "display_name": "Python 3",
   "language": "python",
   "name": "python3"
  },
  "language_info": {
   "codemirror_mode": {
    "name": "ipython",
    "version": 3
   },
   "file_extension": ".py",
   "mimetype": "text/x-python",
   "name": "python",
   "nbconvert_exporter": "python",
   "pygments_lexer": "ipython3",
   "version": "3.7.3"
  },
  "toc": {
   "base_numbering": 1,
   "nav_menu": {},
   "number_sections": true,
   "sideBar": true,
   "skip_h1_title": false,
   "title_cell": "Table of Contents",
   "title_sidebar": "Contents",
   "toc_cell": false,
   "toc_position": {},
   "toc_section_display": true,
   "toc_window_display": false
  }
 },
 "nbformat": 4,
 "nbformat_minor": 2
}
